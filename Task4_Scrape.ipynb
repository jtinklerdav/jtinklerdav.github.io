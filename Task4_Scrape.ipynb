{
  "nbformat": 4,
  "nbformat_minor": 0,
  "metadata": {
    "colab": {
      "provenance": [],
      "authorship_tag": "ABX9TyMPMHOF5bnEM6x6OWYUD9Bq",
      "include_colab_link": true
    },
    "kernelspec": {
      "name": "python3",
      "display_name": "Python 3"
    },
    "language_info": {
      "name": "python"
    }
  },
  "cells": [
    {
      "cell_type": "markdown",
      "metadata": {
        "id": "view-in-github",
        "colab_type": "text"
      },
      "source": [
        "<a href=\"https://colab.research.google.com/github/jtinklerdav/jtinklerdav.github.io/blob/main/Task4_Scrape.ipynb\" target=\"_parent\"><img src=\"https://colab.research.google.com/assets/colab-badge.svg\" alt=\"Open In Colab\"/></a>"
      ]
    },
    {
      "cell_type": "markdown",
      "source": [
        "This code scrapes data from an academic paper describing the growth in wine over 5 different time periods. The link to the paper is here 'https://www.sciencedirect.com/science/article/pii/S2212977418300474'. The Paper depicts the European Wine Export Cycle, the table scraped is title 'table 2' an is found on the 5th page.\n",
        "\n",
        "When scraping the table I attempted to use pandas to read the tables directly from the url however I was blocked from using this method. Instead, I copied the html for the table using the 'inspect' function and saved it onto my pc, from there I uploaded the scraped html into Colab and used pandas to read the html and replicate the table."
      ],
      "metadata": {
        "id": "_HS6lfwO4Zht"
      }
    },
    {
      "cell_type": "code",
      "execution_count": null,
      "metadata": {
        "id": "ngwB2yO90YfW"
      },
      "outputs": [],
      "source": [
        "import pandas as pd"
      ]
    },
    {
      "cell_type": "code",
      "source": [
        "import requests"
      ],
      "metadata": {
        "id": "WkZwFe-h030I"
      },
      "execution_count": null,
      "outputs": []
    },
    {
      "cell_type": "markdown",
      "source": [
        "I used pd.read_html to read the scraped html"
      ],
      "metadata": {
        "id": "wsdNSQjf53gh"
      }
    },
    {
      "cell_type": "code",
      "source": [
        "pd.read_html('Wine_export_value.html')"
      ],
      "metadata": {
        "colab": {
          "base_uri": "https://localhost:8080/"
        },
        "id": "0_nqtlq_1EN-",
        "outputId": "88b6f4d3-0a7a-4000-e181-7b3d4d7587e6"
      },
      "execution_count": null,
      "outputs": [
        {
          "output_type": "execute_result",
          "data": {
            "text/plain": [
              "[    Empty Cell 1957-1967  1968-1978  1979-1986  1987-1998  1999-2007  \\\n",
              " 0      Austria      -9.2       31.0      -27.7       13.6        9.2   \n",
              " 1     Bulgaria      15.4        3.4       -3.9       -2.2        1.9   \n",
              " 2       France       6.2        7.9        6.8        1.9       -0.8   \n",
              " 3      Germany       3.2       19.7        6.3       -1.5        5.1   \n",
              " 4       Greece       7.8        0.5        0.6       -1.4       -5.7   \n",
              " 5      Hungary      12.1        9.0       -2.4       -4.1       -3.0   \n",
              " 6        Italy       3.7       16.3       -6.8        3.5        1.3   \n",
              " 7     Portugal       3.4       -5.4        1.0        3.3        7.6   \n",
              " 8      Romania        __        4.6       -6.8        5.3       -8.1   \n",
              " 9        Spain       6.0        3.7       -2.3        7.7        6.7   \n",
              " 10  EU7 (mean)       3.0       10.5       -3.2        3.9        3.3   \n",
              " \n",
              "     2008-2016  \n",
              " 0        -3.1  \n",
              " 1       -12.9  \n",
              " 2         0.9  \n",
              " 3         0.1  \n",
              " 4         1.0  \n",
              " 5         0.5  \n",
              " 6         1.3  \n",
              " 7        -0.4  \n",
              " 8        -0.8  \n",
              " 9         4.9  \n",
              " 10        0.7  ]"
            ]
          },
          "metadata": {},
          "execution_count": 18
        }
      ]
    },
    {
      "cell_type": "code",
      "source": [
        "table_list=pd.read_html('Wine_export_value.html')"
      ],
      "metadata": {
        "id": "7_7k3oZo_DQp"
      },
      "execution_count": null,
      "outputs": []
    },
    {
      "cell_type": "markdown",
      "source": [
        "Then I checked how many elements were in the array, there was only 1. Afterwards I created a Dataframe that contained the first element of the array (the table) so thaat I could then transform it into long form from the wide form that it is in."
      ],
      "metadata": {
        "id": "1OXMKDsp5-fW"
      }
    },
    {
      "cell_type": "code",
      "source": [
        "len(table_list)"
      ],
      "metadata": {
        "id": "yBoDKxvK5g3p",
        "colab": {
          "base_uri": "https://localhost:8080/"
        },
        "outputId": "321cb8db-1f53-47d3-ea3e-bacc432bc815"
      },
      "execution_count": null,
      "outputs": [
        {
          "output_type": "execute_result",
          "data": {
            "text/plain": [
              "1"
            ]
          },
          "metadata": {},
          "execution_count": 21
        }
      ]
    },
    {
      "cell_type": "code",
      "source": [
        "table_list[0]"
      ],
      "metadata": {
        "colab": {
          "base_uri": "https://localhost:8080/",
          "height": 438
        },
        "id": "-3X9PapXBGWf",
        "outputId": "d8b2d772-4966-4374-c4d5-f4f39e0588ea"
      },
      "execution_count": null,
      "outputs": [
        {
          "output_type": "execute_result",
          "data": {
            "text/plain": [
              "    Empty Cell 1957-1967  1968-1978  1979-1986  1987-1998  1999-2007  \\\n",
              "0      Austria      -9.2       31.0      -27.7       13.6        9.2   \n",
              "1     Bulgaria      15.4        3.4       -3.9       -2.2        1.9   \n",
              "2       France       6.2        7.9        6.8        1.9       -0.8   \n",
              "3      Germany       3.2       19.7        6.3       -1.5        5.1   \n",
              "4       Greece       7.8        0.5        0.6       -1.4       -5.7   \n",
              "5      Hungary      12.1        9.0       -2.4       -4.1       -3.0   \n",
              "6        Italy       3.7       16.3       -6.8        3.5        1.3   \n",
              "7     Portugal       3.4       -5.4        1.0        3.3        7.6   \n",
              "8      Romania        __        4.6       -6.8        5.3       -8.1   \n",
              "9        Spain       6.0        3.7       -2.3        7.7        6.7   \n",
              "10  EU7 (mean)       3.0       10.5       -3.2        3.9        3.3   \n",
              "\n",
              "    2008-2016  \n",
              "0        -3.1  \n",
              "1       -12.9  \n",
              "2         0.9  \n",
              "3         0.1  \n",
              "4         1.0  \n",
              "5         0.5  \n",
              "6         1.3  \n",
              "7        -0.4  \n",
              "8        -0.8  \n",
              "9         4.9  \n",
              "10        0.7  "
            ],
            "text/html": [
              "\n",
              "  <div id=\"df-7b3ac689-688e-42ff-809d-2a03626d1744\">\n",
              "    <div class=\"colab-df-container\">\n",
              "      <div>\n",
              "<style scoped>\n",
              "    .dataframe tbody tr th:only-of-type {\n",
              "        vertical-align: middle;\n",
              "    }\n",
              "\n",
              "    .dataframe tbody tr th {\n",
              "        vertical-align: top;\n",
              "    }\n",
              "\n",
              "    .dataframe thead th {\n",
              "        text-align: right;\n",
              "    }\n",
              "</style>\n",
              "<table border=\"1\" class=\"dataframe\">\n",
              "  <thead>\n",
              "    <tr style=\"text-align: right;\">\n",
              "      <th></th>\n",
              "      <th>Empty Cell</th>\n",
              "      <th>1957-1967</th>\n",
              "      <th>1968-1978</th>\n",
              "      <th>1979-1986</th>\n",
              "      <th>1987-1998</th>\n",
              "      <th>1999-2007</th>\n",
              "      <th>2008-2016</th>\n",
              "    </tr>\n",
              "  </thead>\n",
              "  <tbody>\n",
              "    <tr>\n",
              "      <th>0</th>\n",
              "      <td>Austria</td>\n",
              "      <td>-9.2</td>\n",
              "      <td>31.0</td>\n",
              "      <td>-27.7</td>\n",
              "      <td>13.6</td>\n",
              "      <td>9.2</td>\n",
              "      <td>-3.1</td>\n",
              "    </tr>\n",
              "    <tr>\n",
              "      <th>1</th>\n",
              "      <td>Bulgaria</td>\n",
              "      <td>15.4</td>\n",
              "      <td>3.4</td>\n",
              "      <td>-3.9</td>\n",
              "      <td>-2.2</td>\n",
              "      <td>1.9</td>\n",
              "      <td>-12.9</td>\n",
              "    </tr>\n",
              "    <tr>\n",
              "      <th>2</th>\n",
              "      <td>France</td>\n",
              "      <td>6.2</td>\n",
              "      <td>7.9</td>\n",
              "      <td>6.8</td>\n",
              "      <td>1.9</td>\n",
              "      <td>-0.8</td>\n",
              "      <td>0.9</td>\n",
              "    </tr>\n",
              "    <tr>\n",
              "      <th>3</th>\n",
              "      <td>Germany</td>\n",
              "      <td>3.2</td>\n",
              "      <td>19.7</td>\n",
              "      <td>6.3</td>\n",
              "      <td>-1.5</td>\n",
              "      <td>5.1</td>\n",
              "      <td>0.1</td>\n",
              "    </tr>\n",
              "    <tr>\n",
              "      <th>4</th>\n",
              "      <td>Greece</td>\n",
              "      <td>7.8</td>\n",
              "      <td>0.5</td>\n",
              "      <td>0.6</td>\n",
              "      <td>-1.4</td>\n",
              "      <td>-5.7</td>\n",
              "      <td>1.0</td>\n",
              "    </tr>\n",
              "    <tr>\n",
              "      <th>5</th>\n",
              "      <td>Hungary</td>\n",
              "      <td>12.1</td>\n",
              "      <td>9.0</td>\n",
              "      <td>-2.4</td>\n",
              "      <td>-4.1</td>\n",
              "      <td>-3.0</td>\n",
              "      <td>0.5</td>\n",
              "    </tr>\n",
              "    <tr>\n",
              "      <th>6</th>\n",
              "      <td>Italy</td>\n",
              "      <td>3.7</td>\n",
              "      <td>16.3</td>\n",
              "      <td>-6.8</td>\n",
              "      <td>3.5</td>\n",
              "      <td>1.3</td>\n",
              "      <td>1.3</td>\n",
              "    </tr>\n",
              "    <tr>\n",
              "      <th>7</th>\n",
              "      <td>Portugal</td>\n",
              "      <td>3.4</td>\n",
              "      <td>-5.4</td>\n",
              "      <td>1.0</td>\n",
              "      <td>3.3</td>\n",
              "      <td>7.6</td>\n",
              "      <td>-0.4</td>\n",
              "    </tr>\n",
              "    <tr>\n",
              "      <th>8</th>\n",
              "      <td>Romania</td>\n",
              "      <td>__</td>\n",
              "      <td>4.6</td>\n",
              "      <td>-6.8</td>\n",
              "      <td>5.3</td>\n",
              "      <td>-8.1</td>\n",
              "      <td>-0.8</td>\n",
              "    </tr>\n",
              "    <tr>\n",
              "      <th>9</th>\n",
              "      <td>Spain</td>\n",
              "      <td>6.0</td>\n",
              "      <td>3.7</td>\n",
              "      <td>-2.3</td>\n",
              "      <td>7.7</td>\n",
              "      <td>6.7</td>\n",
              "      <td>4.9</td>\n",
              "    </tr>\n",
              "    <tr>\n",
              "      <th>10</th>\n",
              "      <td>EU7 (mean)</td>\n",
              "      <td>3.0</td>\n",
              "      <td>10.5</td>\n",
              "      <td>-3.2</td>\n",
              "      <td>3.9</td>\n",
              "      <td>3.3</td>\n",
              "      <td>0.7</td>\n",
              "    </tr>\n",
              "  </tbody>\n",
              "</table>\n",
              "</div>\n",
              "      <button class=\"colab-df-convert\" onclick=\"convertToInteractive('df-7b3ac689-688e-42ff-809d-2a03626d1744')\"\n",
              "              title=\"Convert this dataframe to an interactive table.\"\n",
              "              style=\"display:none;\">\n",
              "        \n",
              "  <svg xmlns=\"http://www.w3.org/2000/svg\" height=\"24px\"viewBox=\"0 0 24 24\"\n",
              "       width=\"24px\">\n",
              "    <path d=\"M0 0h24v24H0V0z\" fill=\"none\"/>\n",
              "    <path d=\"M18.56 5.44l.94 2.06.94-2.06 2.06-.94-2.06-.94-.94-2.06-.94 2.06-2.06.94zm-11 1L8.5 8.5l.94-2.06 2.06-.94-2.06-.94L8.5 2.5l-.94 2.06-2.06.94zm10 10l.94 2.06.94-2.06 2.06-.94-2.06-.94-.94-2.06-.94 2.06-2.06.94z\"/><path d=\"M17.41 7.96l-1.37-1.37c-.4-.4-.92-.59-1.43-.59-.52 0-1.04.2-1.43.59L10.3 9.45l-7.72 7.72c-.78.78-.78 2.05 0 2.83L4 21.41c.39.39.9.59 1.41.59.51 0 1.02-.2 1.41-.59l7.78-7.78 2.81-2.81c.8-.78.8-2.07 0-2.86zM5.41 20L4 18.59l7.72-7.72 1.47 1.35L5.41 20z\"/>\n",
              "  </svg>\n",
              "      </button>\n",
              "      \n",
              "  <style>\n",
              "    .colab-df-container {\n",
              "      display:flex;\n",
              "      flex-wrap:wrap;\n",
              "      gap: 12px;\n",
              "    }\n",
              "\n",
              "    .colab-df-convert {\n",
              "      background-color: #E8F0FE;\n",
              "      border: none;\n",
              "      border-radius: 50%;\n",
              "      cursor: pointer;\n",
              "      display: none;\n",
              "      fill: #1967D2;\n",
              "      height: 32px;\n",
              "      padding: 0 0 0 0;\n",
              "      width: 32px;\n",
              "    }\n",
              "\n",
              "    .colab-df-convert:hover {\n",
              "      background-color: #E2EBFA;\n",
              "      box-shadow: 0px 1px 2px rgba(60, 64, 67, 0.3), 0px 1px 3px 1px rgba(60, 64, 67, 0.15);\n",
              "      fill: #174EA6;\n",
              "    }\n",
              "\n",
              "    [theme=dark] .colab-df-convert {\n",
              "      background-color: #3B4455;\n",
              "      fill: #D2E3FC;\n",
              "    }\n",
              "\n",
              "    [theme=dark] .colab-df-convert:hover {\n",
              "      background-color: #434B5C;\n",
              "      box-shadow: 0px 1px 3px 1px rgba(0, 0, 0, 0.15);\n",
              "      filter: drop-shadow(0px 1px 2px rgba(0, 0, 0, 0.3));\n",
              "      fill: #FFFFFF;\n",
              "    }\n",
              "  </style>\n",
              "\n",
              "      <script>\n",
              "        const buttonEl =\n",
              "          document.querySelector('#df-7b3ac689-688e-42ff-809d-2a03626d1744 button.colab-df-convert');\n",
              "        buttonEl.style.display =\n",
              "          google.colab.kernel.accessAllowed ? 'block' : 'none';\n",
              "\n",
              "        async function convertToInteractive(key) {\n",
              "          const element = document.querySelector('#df-7b3ac689-688e-42ff-809d-2a03626d1744');\n",
              "          const dataTable =\n",
              "            await google.colab.kernel.invokeFunction('convertToInteractive',\n",
              "                                                     [key], {});\n",
              "          if (!dataTable) return;\n",
              "\n",
              "          const docLinkHtml = 'Like what you see? Visit the ' +\n",
              "            '<a target=\"_blank\" href=https://colab.research.google.com/notebooks/data_table.ipynb>data table notebook</a>'\n",
              "            + ' to learn more about interactive tables.';\n",
              "          element.innerHTML = '';\n",
              "          dataTable['output_type'] = 'display_data';\n",
              "          await google.colab.output.renderOutput(dataTable, element);\n",
              "          const docLink = document.createElement('div');\n",
              "          docLink.innerHTML = docLinkHtml;\n",
              "          element.appendChild(docLink);\n",
              "        }\n",
              "      </script>\n",
              "    </div>\n",
              "  </div>\n",
              "  "
            ]
          },
          "metadata": {},
          "execution_count": 22
        }
      ]
    },
    {
      "cell_type": "code",
      "source": [
        "df = table_list[0]"
      ],
      "metadata": {
        "id": "vChTGE_xBKtO"
      },
      "execution_count": null,
      "outputs": []
    },
    {
      "cell_type": "markdown",
      "source": [
        "I renamed the column 'Empty Cell' to 'Country' and then, using .stack() I held the country and created individual rows for each observation. Then I dropped the 48th Row since it was the value for Romania between 1957-1967, which does not exist."
      ],
      "metadata": {
        "id": "ktOWNDcT6ml3"
      }
    },
    {
      "cell_type": "code",
      "source": [
        "df2=df.rename(columns={'Empty Cell':'Country'})"
      ],
      "metadata": {
        "id": "AjjnKokeBiIy"
      },
      "execution_count": null,
      "outputs": []
    },
    {
      "cell_type": "code",
      "source": [
        "df3=df2.set_index(['Country']).stack().reset_index()"
      ],
      "metadata": {
        "id": "DR2zr9yhBscM"
      },
      "execution_count": null,
      "outputs": []
    },
    {
      "cell_type": "code",
      "source": [
        "df3.drop(48)"
      ],
      "metadata": {
        "colab": {
          "base_uri": "https://localhost:8080/",
          "height": 424
        },
        "id": "Nkpw9t0gB-8W",
        "outputId": "33583e6a-d04a-46ff-cd2b-413a0ab3d192"
      },
      "execution_count": null,
      "outputs": [
        {
          "output_type": "execute_result",
          "data": {
            "text/plain": [
              "       Country    level_1     0\n",
              "0      Austria  1957-1967  -9.2\n",
              "1      Austria  1968-1978  31.0\n",
              "2      Austria  1979-1986 -27.7\n",
              "3      Austria  1987-1998  13.6\n",
              "4      Austria  1999-2007   9.2\n",
              "..         ...        ...   ...\n",
              "61  EU7 (mean)  1968-1978  10.5\n",
              "62  EU7 (mean)  1979-1986  -3.2\n",
              "63  EU7 (mean)  1987-1998   3.9\n",
              "64  EU7 (mean)  1999-2007   3.3\n",
              "65  EU7 (mean)  2008-2016   0.7\n",
              "\n",
              "[65 rows x 3 columns]"
            ],
            "text/html": [
              "\n",
              "  <div id=\"df-4fce05ed-2482-4b17-a97b-ca548827eaf9\">\n",
              "    <div class=\"colab-df-container\">\n",
              "      <div>\n",
              "<style scoped>\n",
              "    .dataframe tbody tr th:only-of-type {\n",
              "        vertical-align: middle;\n",
              "    }\n",
              "\n",
              "    .dataframe tbody tr th {\n",
              "        vertical-align: top;\n",
              "    }\n",
              "\n",
              "    .dataframe thead th {\n",
              "        text-align: right;\n",
              "    }\n",
              "</style>\n",
              "<table border=\"1\" class=\"dataframe\">\n",
              "  <thead>\n",
              "    <tr style=\"text-align: right;\">\n",
              "      <th></th>\n",
              "      <th>Country</th>\n",
              "      <th>level_1</th>\n",
              "      <th>0</th>\n",
              "    </tr>\n",
              "  </thead>\n",
              "  <tbody>\n",
              "    <tr>\n",
              "      <th>0</th>\n",
              "      <td>Austria</td>\n",
              "      <td>1957-1967</td>\n",
              "      <td>-9.2</td>\n",
              "    </tr>\n",
              "    <tr>\n",
              "      <th>1</th>\n",
              "      <td>Austria</td>\n",
              "      <td>1968-1978</td>\n",
              "      <td>31.0</td>\n",
              "    </tr>\n",
              "    <tr>\n",
              "      <th>2</th>\n",
              "      <td>Austria</td>\n",
              "      <td>1979-1986</td>\n",
              "      <td>-27.7</td>\n",
              "    </tr>\n",
              "    <tr>\n",
              "      <th>3</th>\n",
              "      <td>Austria</td>\n",
              "      <td>1987-1998</td>\n",
              "      <td>13.6</td>\n",
              "    </tr>\n",
              "    <tr>\n",
              "      <th>4</th>\n",
              "      <td>Austria</td>\n",
              "      <td>1999-2007</td>\n",
              "      <td>9.2</td>\n",
              "    </tr>\n",
              "    <tr>\n",
              "      <th>...</th>\n",
              "      <td>...</td>\n",
              "      <td>...</td>\n",
              "      <td>...</td>\n",
              "    </tr>\n",
              "    <tr>\n",
              "      <th>61</th>\n",
              "      <td>EU7 (mean)</td>\n",
              "      <td>1968-1978</td>\n",
              "      <td>10.5</td>\n",
              "    </tr>\n",
              "    <tr>\n",
              "      <th>62</th>\n",
              "      <td>EU7 (mean)</td>\n",
              "      <td>1979-1986</td>\n",
              "      <td>-3.2</td>\n",
              "    </tr>\n",
              "    <tr>\n",
              "      <th>63</th>\n",
              "      <td>EU7 (mean)</td>\n",
              "      <td>1987-1998</td>\n",
              "      <td>3.9</td>\n",
              "    </tr>\n",
              "    <tr>\n",
              "      <th>64</th>\n",
              "      <td>EU7 (mean)</td>\n",
              "      <td>1999-2007</td>\n",
              "      <td>3.3</td>\n",
              "    </tr>\n",
              "    <tr>\n",
              "      <th>65</th>\n",
              "      <td>EU7 (mean)</td>\n",
              "      <td>2008-2016</td>\n",
              "      <td>0.7</td>\n",
              "    </tr>\n",
              "  </tbody>\n",
              "</table>\n",
              "<p>65 rows × 3 columns</p>\n",
              "</div>\n",
              "      <button class=\"colab-df-convert\" onclick=\"convertToInteractive('df-4fce05ed-2482-4b17-a97b-ca548827eaf9')\"\n",
              "              title=\"Convert this dataframe to an interactive table.\"\n",
              "              style=\"display:none;\">\n",
              "        \n",
              "  <svg xmlns=\"http://www.w3.org/2000/svg\" height=\"24px\"viewBox=\"0 0 24 24\"\n",
              "       width=\"24px\">\n",
              "    <path d=\"M0 0h24v24H0V0z\" fill=\"none\"/>\n",
              "    <path d=\"M18.56 5.44l.94 2.06.94-2.06 2.06-.94-2.06-.94-.94-2.06-.94 2.06-2.06.94zm-11 1L8.5 8.5l.94-2.06 2.06-.94-2.06-.94L8.5 2.5l-.94 2.06-2.06.94zm10 10l.94 2.06.94-2.06 2.06-.94-2.06-.94-.94-2.06-.94 2.06-2.06.94z\"/><path d=\"M17.41 7.96l-1.37-1.37c-.4-.4-.92-.59-1.43-.59-.52 0-1.04.2-1.43.59L10.3 9.45l-7.72 7.72c-.78.78-.78 2.05 0 2.83L4 21.41c.39.39.9.59 1.41.59.51 0 1.02-.2 1.41-.59l7.78-7.78 2.81-2.81c.8-.78.8-2.07 0-2.86zM5.41 20L4 18.59l7.72-7.72 1.47 1.35L5.41 20z\"/>\n",
              "  </svg>\n",
              "      </button>\n",
              "      \n",
              "  <style>\n",
              "    .colab-df-container {\n",
              "      display:flex;\n",
              "      flex-wrap:wrap;\n",
              "      gap: 12px;\n",
              "    }\n",
              "\n",
              "    .colab-df-convert {\n",
              "      background-color: #E8F0FE;\n",
              "      border: none;\n",
              "      border-radius: 50%;\n",
              "      cursor: pointer;\n",
              "      display: none;\n",
              "      fill: #1967D2;\n",
              "      height: 32px;\n",
              "      padding: 0 0 0 0;\n",
              "      width: 32px;\n",
              "    }\n",
              "\n",
              "    .colab-df-convert:hover {\n",
              "      background-color: #E2EBFA;\n",
              "      box-shadow: 0px 1px 2px rgba(60, 64, 67, 0.3), 0px 1px 3px 1px rgba(60, 64, 67, 0.15);\n",
              "      fill: #174EA6;\n",
              "    }\n",
              "\n",
              "    [theme=dark] .colab-df-convert {\n",
              "      background-color: #3B4455;\n",
              "      fill: #D2E3FC;\n",
              "    }\n",
              "\n",
              "    [theme=dark] .colab-df-convert:hover {\n",
              "      background-color: #434B5C;\n",
              "      box-shadow: 0px 1px 3px 1px rgba(0, 0, 0, 0.15);\n",
              "      filter: drop-shadow(0px 1px 2px rgba(0, 0, 0, 0.3));\n",
              "      fill: #FFFFFF;\n",
              "    }\n",
              "  </style>\n",
              "\n",
              "      <script>\n",
              "        const buttonEl =\n",
              "          document.querySelector('#df-4fce05ed-2482-4b17-a97b-ca548827eaf9 button.colab-df-convert');\n",
              "        buttonEl.style.display =\n",
              "          google.colab.kernel.accessAllowed ? 'block' : 'none';\n",
              "\n",
              "        async function convertToInteractive(key) {\n",
              "          const element = document.querySelector('#df-4fce05ed-2482-4b17-a97b-ca548827eaf9');\n",
              "          const dataTable =\n",
              "            await google.colab.kernel.invokeFunction('convertToInteractive',\n",
              "                                                     [key], {});\n",
              "          if (!dataTable) return;\n",
              "\n",
              "          const docLinkHtml = 'Like what you see? Visit the ' +\n",
              "            '<a target=\"_blank\" href=https://colab.research.google.com/notebooks/data_table.ipynb>data table notebook</a>'\n",
              "            + ' to learn more about interactive tables.';\n",
              "          element.innerHTML = '';\n",
              "          dataTable['output_type'] = 'display_data';\n",
              "          await google.colab.output.renderOutput(dataTable, element);\n",
              "          const docLink = document.createElement('div');\n",
              "          docLink.innerHTML = docLinkHtml;\n",
              "          element.appendChild(docLink);\n",
              "        }\n",
              "      </script>\n",
              "    </div>\n",
              "  </div>\n",
              "  "
            ]
          },
          "metadata": {},
          "execution_count": 32
        }
      ]
    },
    {
      "cell_type": "code",
      "source": [
        "df4=df3.drop(48)"
      ],
      "metadata": {
        "id": "v-j0Z2d7DC_G"
      },
      "execution_count": null,
      "outputs": []
    },
    {
      "cell_type": "markdown",
      "source": [
        "Then I renamed the columns to have a clear dataset"
      ],
      "metadata": {
        "id": "8FuIjRHU7GId"
      }
    },
    {
      "cell_type": "code",
      "source": [
        "df5=df4.rename(columns={'level_1':'Time Period', 0:'Export Growth'})"
      ],
      "metadata": {
        "id": "fewm-PjtFYpl"
      },
      "execution_count": null,
      "outputs": []
    },
    {
      "cell_type": "code",
      "source": [
        "df5"
      ],
      "metadata": {
        "colab": {
          "base_uri": "https://localhost:8080/",
          "height": 424
        },
        "id": "d9yfrNtnFvJk",
        "outputId": "484ebe16-1241-47ef-f7d0-7e7ee97196e1"
      },
      "execution_count": null,
      "outputs": [
        {
          "output_type": "execute_result",
          "data": {
            "text/plain": [
              "       Country Time Period Export Growth\n",
              "0      Austria   1957-1967          -9.2\n",
              "1      Austria   1968-1978          31.0\n",
              "2      Austria   1979-1986         -27.7\n",
              "3      Austria   1987-1998          13.6\n",
              "4      Austria   1999-2007           9.2\n",
              "..         ...         ...           ...\n",
              "61  EU7 (mean)   1968-1978          10.5\n",
              "62  EU7 (mean)   1979-1986          -3.2\n",
              "63  EU7 (mean)   1987-1998           3.9\n",
              "64  EU7 (mean)   1999-2007           3.3\n",
              "65  EU7 (mean)   2008-2016           0.7\n",
              "\n",
              "[65 rows x 3 columns]"
            ],
            "text/html": [
              "\n",
              "  <div id=\"df-dcd8872c-6315-4065-820c-bae74c8262c5\">\n",
              "    <div class=\"colab-df-container\">\n",
              "      <div>\n",
              "<style scoped>\n",
              "    .dataframe tbody tr th:only-of-type {\n",
              "        vertical-align: middle;\n",
              "    }\n",
              "\n",
              "    .dataframe tbody tr th {\n",
              "        vertical-align: top;\n",
              "    }\n",
              "\n",
              "    .dataframe thead th {\n",
              "        text-align: right;\n",
              "    }\n",
              "</style>\n",
              "<table border=\"1\" class=\"dataframe\">\n",
              "  <thead>\n",
              "    <tr style=\"text-align: right;\">\n",
              "      <th></th>\n",
              "      <th>Country</th>\n",
              "      <th>Time Period</th>\n",
              "      <th>Export Growth</th>\n",
              "    </tr>\n",
              "  </thead>\n",
              "  <tbody>\n",
              "    <tr>\n",
              "      <th>0</th>\n",
              "      <td>Austria</td>\n",
              "      <td>1957-1967</td>\n",
              "      <td>-9.2</td>\n",
              "    </tr>\n",
              "    <tr>\n",
              "      <th>1</th>\n",
              "      <td>Austria</td>\n",
              "      <td>1968-1978</td>\n",
              "      <td>31.0</td>\n",
              "    </tr>\n",
              "    <tr>\n",
              "      <th>2</th>\n",
              "      <td>Austria</td>\n",
              "      <td>1979-1986</td>\n",
              "      <td>-27.7</td>\n",
              "    </tr>\n",
              "    <tr>\n",
              "      <th>3</th>\n",
              "      <td>Austria</td>\n",
              "      <td>1987-1998</td>\n",
              "      <td>13.6</td>\n",
              "    </tr>\n",
              "    <tr>\n",
              "      <th>4</th>\n",
              "      <td>Austria</td>\n",
              "      <td>1999-2007</td>\n",
              "      <td>9.2</td>\n",
              "    </tr>\n",
              "    <tr>\n",
              "      <th>...</th>\n",
              "      <td>...</td>\n",
              "      <td>...</td>\n",
              "      <td>...</td>\n",
              "    </tr>\n",
              "    <tr>\n",
              "      <th>61</th>\n",
              "      <td>EU7 (mean)</td>\n",
              "      <td>1968-1978</td>\n",
              "      <td>10.5</td>\n",
              "    </tr>\n",
              "    <tr>\n",
              "      <th>62</th>\n",
              "      <td>EU7 (mean)</td>\n",
              "      <td>1979-1986</td>\n",
              "      <td>-3.2</td>\n",
              "    </tr>\n",
              "    <tr>\n",
              "      <th>63</th>\n",
              "      <td>EU7 (mean)</td>\n",
              "      <td>1987-1998</td>\n",
              "      <td>3.9</td>\n",
              "    </tr>\n",
              "    <tr>\n",
              "      <th>64</th>\n",
              "      <td>EU7 (mean)</td>\n",
              "      <td>1999-2007</td>\n",
              "      <td>3.3</td>\n",
              "    </tr>\n",
              "    <tr>\n",
              "      <th>65</th>\n",
              "      <td>EU7 (mean)</td>\n",
              "      <td>2008-2016</td>\n",
              "      <td>0.7</td>\n",
              "    </tr>\n",
              "  </tbody>\n",
              "</table>\n",
              "<p>65 rows × 3 columns</p>\n",
              "</div>\n",
              "      <button class=\"colab-df-convert\" onclick=\"convertToInteractive('df-dcd8872c-6315-4065-820c-bae74c8262c5')\"\n",
              "              title=\"Convert this dataframe to an interactive table.\"\n",
              "              style=\"display:none;\">\n",
              "        \n",
              "  <svg xmlns=\"http://www.w3.org/2000/svg\" height=\"24px\"viewBox=\"0 0 24 24\"\n",
              "       width=\"24px\">\n",
              "    <path d=\"M0 0h24v24H0V0z\" fill=\"none\"/>\n",
              "    <path d=\"M18.56 5.44l.94 2.06.94-2.06 2.06-.94-2.06-.94-.94-2.06-.94 2.06-2.06.94zm-11 1L8.5 8.5l.94-2.06 2.06-.94-2.06-.94L8.5 2.5l-.94 2.06-2.06.94zm10 10l.94 2.06.94-2.06 2.06-.94-2.06-.94-.94-2.06-.94 2.06-2.06.94z\"/><path d=\"M17.41 7.96l-1.37-1.37c-.4-.4-.92-.59-1.43-.59-.52 0-1.04.2-1.43.59L10.3 9.45l-7.72 7.72c-.78.78-.78 2.05 0 2.83L4 21.41c.39.39.9.59 1.41.59.51 0 1.02-.2 1.41-.59l7.78-7.78 2.81-2.81c.8-.78.8-2.07 0-2.86zM5.41 20L4 18.59l7.72-7.72 1.47 1.35L5.41 20z\"/>\n",
              "  </svg>\n",
              "      </button>\n",
              "      \n",
              "  <style>\n",
              "    .colab-df-container {\n",
              "      display:flex;\n",
              "      flex-wrap:wrap;\n",
              "      gap: 12px;\n",
              "    }\n",
              "\n",
              "    .colab-df-convert {\n",
              "      background-color: #E8F0FE;\n",
              "      border: none;\n",
              "      border-radius: 50%;\n",
              "      cursor: pointer;\n",
              "      display: none;\n",
              "      fill: #1967D2;\n",
              "      height: 32px;\n",
              "      padding: 0 0 0 0;\n",
              "      width: 32px;\n",
              "    }\n",
              "\n",
              "    .colab-df-convert:hover {\n",
              "      background-color: #E2EBFA;\n",
              "      box-shadow: 0px 1px 2px rgba(60, 64, 67, 0.3), 0px 1px 3px 1px rgba(60, 64, 67, 0.15);\n",
              "      fill: #174EA6;\n",
              "    }\n",
              "\n",
              "    [theme=dark] .colab-df-convert {\n",
              "      background-color: #3B4455;\n",
              "      fill: #D2E3FC;\n",
              "    }\n",
              "\n",
              "    [theme=dark] .colab-df-convert:hover {\n",
              "      background-color: #434B5C;\n",
              "      box-shadow: 0px 1px 3px 1px rgba(0, 0, 0, 0.15);\n",
              "      filter: drop-shadow(0px 1px 2px rgba(0, 0, 0, 0.3));\n",
              "      fill: #FFFFFF;\n",
              "    }\n",
              "  </style>\n",
              "\n",
              "      <script>\n",
              "        const buttonEl =\n",
              "          document.querySelector('#df-dcd8872c-6315-4065-820c-bae74c8262c5 button.colab-df-convert');\n",
              "        buttonEl.style.display =\n",
              "          google.colab.kernel.accessAllowed ? 'block' : 'none';\n",
              "\n",
              "        async function convertToInteractive(key) {\n",
              "          const element = document.querySelector('#df-dcd8872c-6315-4065-820c-bae74c8262c5');\n",
              "          const dataTable =\n",
              "            await google.colab.kernel.invokeFunction('convertToInteractive',\n",
              "                                                     [key], {});\n",
              "          if (!dataTable) return;\n",
              "\n",
              "          const docLinkHtml = 'Like what you see? Visit the ' +\n",
              "            '<a target=\"_blank\" href=https://colab.research.google.com/notebooks/data_table.ipynb>data table notebook</a>'\n",
              "            + ' to learn more about interactive tables.';\n",
              "          element.innerHTML = '';\n",
              "          dataTable['output_type'] = 'display_data';\n",
              "          await google.colab.output.renderOutput(dataTable, element);\n",
              "          const docLink = document.createElement('div');\n",
              "          docLink.innerHTML = docLinkHtml;\n",
              "          element.appendChild(docLink);\n",
              "        }\n",
              "      </script>\n",
              "    </div>\n",
              "  </div>\n",
              "  "
            ]
          },
          "metadata": {},
          "execution_count": 55
        }
      ]
    },
    {
      "cell_type": "markdown",
      "source": [
        "Transforming the dataset into a json file below which can then be saved into Github and used in the visualisation!"
      ],
      "metadata": {
        "id": "tnuf2urq7LeY"
      }
    },
    {
      "cell_type": "code",
      "source": [
        "exported_values = list( df5.T.to_dict().values())"
      ],
      "metadata": {
        "id": "GQZNkpnADPYp"
      },
      "execution_count": null,
      "outputs": []
    },
    {
      "cell_type": "code",
      "source": [
        "import json"
      ],
      "metadata": {
        "id": "5M6fjw31EWaB"
      },
      "execution_count": null,
      "outputs": []
    },
    {
      "cell_type": "code",
      "source": [
        "exported_values"
      ],
      "metadata": {
        "colab": {
          "base_uri": "https://localhost:8080/"
        },
        "id": "lnvnOvfCEXt7",
        "outputId": "dea0197a-8d0f-4c01-a460-7cd35094fb53"
      },
      "execution_count": null,
      "outputs": [
        {
          "output_type": "execute_result",
          "data": {
            "text/plain": [
              "[{'Country': 'Austria', 'Time Period': '1957-1967', 'Export Growth': '-9.2'},\n",
              " {'Country': 'Austria', 'Time Period': '1968-1978', 'Export Growth': 31.0},\n",
              " {'Country': 'Austria', 'Time Period': '1979-1986', 'Export Growth': -27.7},\n",
              " {'Country': 'Austria', 'Time Period': '1987-1998', 'Export Growth': 13.6},\n",
              " {'Country': 'Austria', 'Time Period': '1999-2007', 'Export Growth': 9.2},\n",
              " {'Country': 'Austria', 'Time Period': '2008-2016', 'Export Growth': -3.1},\n",
              " {'Country': 'Bulgaria', 'Time Period': '1957-1967', 'Export Growth': '15.4'},\n",
              " {'Country': 'Bulgaria', 'Time Period': '1968-1978', 'Export Growth': 3.4},\n",
              " {'Country': 'Bulgaria', 'Time Period': '1979-1986', 'Export Growth': -3.9},\n",
              " {'Country': 'Bulgaria', 'Time Period': '1987-1998', 'Export Growth': -2.2},\n",
              " {'Country': 'Bulgaria', 'Time Period': '1999-2007', 'Export Growth': 1.9},\n",
              " {'Country': 'Bulgaria', 'Time Period': '2008-2016', 'Export Growth': -12.9},\n",
              " {'Country': 'France', 'Time Period': '1957-1967', 'Export Growth': '6.2'},\n",
              " {'Country': 'France', 'Time Period': '1968-1978', 'Export Growth': 7.9},\n",
              " {'Country': 'France', 'Time Period': '1979-1986', 'Export Growth': 6.8},\n",
              " {'Country': 'France', 'Time Period': '1987-1998', 'Export Growth': 1.9},\n",
              " {'Country': 'France', 'Time Period': '1999-2007', 'Export Growth': -0.8},\n",
              " {'Country': 'France', 'Time Period': '2008-2016', 'Export Growth': 0.9},\n",
              " {'Country': 'Germany', 'Time Period': '1957-1967', 'Export Growth': '3.2'},\n",
              " {'Country': 'Germany', 'Time Period': '1968-1978', 'Export Growth': 19.7},\n",
              " {'Country': 'Germany', 'Time Period': '1979-1986', 'Export Growth': 6.3},\n",
              " {'Country': 'Germany', 'Time Period': '1987-1998', 'Export Growth': -1.5},\n",
              " {'Country': 'Germany', 'Time Period': '1999-2007', 'Export Growth': 5.1},\n",
              " {'Country': 'Germany', 'Time Period': '2008-2016', 'Export Growth': 0.1},\n",
              " {'Country': 'Greece', 'Time Period': '1957-1967', 'Export Growth': '7.8'},\n",
              " {'Country': 'Greece', 'Time Period': '1968-1978', 'Export Growth': 0.5},\n",
              " {'Country': 'Greece', 'Time Period': '1979-1986', 'Export Growth': 0.6},\n",
              " {'Country': 'Greece', 'Time Period': '1987-1998', 'Export Growth': -1.4},\n",
              " {'Country': 'Greece', 'Time Period': '1999-2007', 'Export Growth': -5.7},\n",
              " {'Country': 'Greece', 'Time Period': '2008-2016', 'Export Growth': 1.0},\n",
              " {'Country': 'Hungary', 'Time Period': '1957-1967', 'Export Growth': '12.1'},\n",
              " {'Country': 'Hungary', 'Time Period': '1968-1978', 'Export Growth': 9.0},\n",
              " {'Country': 'Hungary', 'Time Period': '1979-1986', 'Export Growth': -2.4},\n",
              " {'Country': 'Hungary', 'Time Period': '1987-1998', 'Export Growth': -4.1},\n",
              " {'Country': 'Hungary', 'Time Period': '1999-2007', 'Export Growth': -3.0},\n",
              " {'Country': 'Hungary', 'Time Period': '2008-2016', 'Export Growth': 0.5},\n",
              " {'Country': 'Italy', 'Time Period': '1957-1967', 'Export Growth': '3.7'},\n",
              " {'Country': 'Italy', 'Time Period': '1968-1978', 'Export Growth': 16.3},\n",
              " {'Country': 'Italy', 'Time Period': '1979-1986', 'Export Growth': -6.8},\n",
              " {'Country': 'Italy', 'Time Period': '1987-1998', 'Export Growth': 3.5},\n",
              " {'Country': 'Italy', 'Time Period': '1999-2007', 'Export Growth': 1.3},\n",
              " {'Country': 'Italy', 'Time Period': '2008-2016', 'Export Growth': 1.3},\n",
              " {'Country': 'Portugal', 'Time Period': '1957-1967', 'Export Growth': '3.4'},\n",
              " {'Country': 'Portugal', 'Time Period': '1968-1978', 'Export Growth': -5.4},\n",
              " {'Country': 'Portugal', 'Time Period': '1979-1986', 'Export Growth': 1.0},\n",
              " {'Country': 'Portugal', 'Time Period': '1987-1998', 'Export Growth': 3.3},\n",
              " {'Country': 'Portugal', 'Time Period': '1999-2007', 'Export Growth': 7.6},\n",
              " {'Country': 'Portugal', 'Time Period': '2008-2016', 'Export Growth': -0.4},\n",
              " {'Country': 'Romania', 'Time Period': '1968-1978', 'Export Growth': 4.6},\n",
              " {'Country': 'Romania', 'Time Period': '1979-1986', 'Export Growth': -6.8},\n",
              " {'Country': 'Romania', 'Time Period': '1987-1998', 'Export Growth': 5.3},\n",
              " {'Country': 'Romania', 'Time Period': '1999-2007', 'Export Growth': -8.1},\n",
              " {'Country': 'Romania', 'Time Period': '2008-2016', 'Export Growth': -0.8},\n",
              " {'Country': 'Spain', 'Time Period': '1957-1967', 'Export Growth': '6.0'},\n",
              " {'Country': 'Spain', 'Time Period': '1968-1978', 'Export Growth': 3.7},\n",
              " {'Country': 'Spain', 'Time Period': '1979-1986', 'Export Growth': -2.3},\n",
              " {'Country': 'Spain', 'Time Period': '1987-1998', 'Export Growth': 7.7},\n",
              " {'Country': 'Spain', 'Time Period': '1999-2007', 'Export Growth': 6.7},\n",
              " {'Country': 'Spain', 'Time Period': '2008-2016', 'Export Growth': 4.9},\n",
              " {'Country': 'EU7 (mean)', 'Time Period': '1957-1967', 'Export Growth': '3.0'},\n",
              " {'Country': 'EU7 (mean)', 'Time Period': '1968-1978', 'Export Growth': 10.5},\n",
              " {'Country': 'EU7 (mean)', 'Time Period': '1979-1986', 'Export Growth': -3.2},\n",
              " {'Country': 'EU7 (mean)', 'Time Period': '1987-1998', 'Export Growth': 3.9},\n",
              " {'Country': 'EU7 (mean)', 'Time Period': '1999-2007', 'Export Growth': 3.3},\n",
              " {'Country': 'EU7 (mean)', 'Time Period': '2008-2016', 'Export Growth': 0.7}]"
            ]
          },
          "metadata": {},
          "execution_count": 58
        }
      ]
    },
    {
      "cell_type": "code",
      "source": [
        "open('Exported_Wine.json', 'w').write(json.dumps(exported_values))"
      ],
      "metadata": {
        "colab": {
          "base_uri": "https://localhost:8080/"
        },
        "id": "81MO35XNErLc",
        "outputId": "56ee66c3-4af9-46a3-b6c5-68d663a471fe"
      },
      "execution_count": null,
      "outputs": [
        {
          "output_type": "execute_result",
          "data": {
            "text/plain": [
              "4854"
            ]
          },
          "metadata": {},
          "execution_count": 59
        }
      ]
    },
    {
      "cell_type": "code",
      "source": [
        "json.dumps(exported_values)"
      ],
      "metadata": {
        "colab": {
          "base_uri": "https://localhost:8080/",
          "height": 244
        },
        "id": "ix7ZOISKFKnx",
        "outputId": "33d579c6-ed30-4f94-b055-338278fae018"
      },
      "execution_count": null,
      "outputs": [
        {
          "output_type": "execute_result",
          "data": {
            "text/plain": [
              "'[{\"Country\": \"Austria\", \"Time Period\": \"1957-1967\", \"Export Growth\": \"-9.2\"}, {\"Country\": \"Austria\", \"Time Period\": \"1968-1978\", \"Export Growth\": 31.0}, {\"Country\": \"Austria\", \"Time Period\": \"1979-1986\", \"Export Growth\": -27.7}, {\"Country\": \"Austria\", \"Time Period\": \"1987-1998\", \"Export Growth\": 13.6}, {\"Country\": \"Austria\", \"Time Period\": \"1999-2007\", \"Export Growth\": 9.2}, {\"Country\": \"Austria\", \"Time Period\": \"2008-2016\", \"Export Growth\": -3.1}, {\"Country\": \"Bulgaria\", \"Time Period\": \"1957-1967\", \"Export Growth\": \"15.4\"}, {\"Country\": \"Bulgaria\", \"Time Period\": \"1968-1978\", \"Export Growth\": 3.4}, {\"Country\": \"Bulgaria\", \"Time Period\": \"1979-1986\", \"Export Growth\": -3.9}, {\"Country\": \"Bulgaria\", \"Time Period\": \"1987-1998\", \"Export Growth\": -2.2}, {\"Country\": \"Bulgaria\", \"Time Period\": \"1999-2007\", \"Export Growth\": 1.9}, {\"Country\": \"Bulgaria\", \"Time Period\": \"2008-2016\", \"Export Growth\": -12.9}, {\"Country\": \"France\", \"Time Period\": \"1957-1967\", \"Export Growth\": \"6.2\"}, {\"Country\": \"France\", \"Time Period\": \"1968-1978\", \"Export Growth\": 7.9}, {\"Country\": \"France\", \"Time Period\": \"1979-1986\", \"Export Growth\": 6.8}, {\"Country\": \"France\", \"Time Period\": \"1987-1998\", \"Export Growth\": 1.9}, {\"Country\": \"France\", \"Time Period\": \"1999-2007\", \"Export Growth\": -0.8}, {\"Country\": \"France\", \"Time Period\": \"2008-2016\", \"Export Growth\": 0.9}, {\"Country\": \"Germany\", \"Time Period\": \"1957-1967\", \"Export Growth\": \"3.2\"}, {\"Country\": \"Germany\", \"Time Period\": \"1968-1978\", \"Export Growth\": 19.7}, {\"Country\": \"Germany\", \"Time Period\": \"1979-1986\", \"Export Growth\": 6.3}, {\"Country\": \"Germany\", \"Time Period\": \"1987-1998\", \"Export Growth\": -1.5}, {\"Country\": \"Germany\", \"Time Period\": \"1999-2007\", \"Export Growth\": 5.1}, {\"Country\": \"Germany\", \"Time Period\": \"2008-2016\", \"Export Growth\": 0.1}, {\"Country\": \"Greece\", \"Time Period\": \"1957-1967\", \"Export Growth\": \"7.8\"}, {\"Country\": \"Greece\", \"Time Period\": \"1968-1978\", \"Export Growth\": 0.5}, {\"Country\": \"Greece\", \"Time Period\": \"1979-1986\", \"Export Growth\": 0.6}, {\"Country\": \"Greece\", \"Time Period\": \"1987-1998\", \"Export Growth\": -1.4}, {\"Country\": \"Greece\", \"Time Period\": \"1999-2007\", \"Export Growth\": -5.7}, {\"Country\": \"Greece\", \"Time Period\": \"2008-2016\", \"Export Growth\": 1.0}, {\"Country\": \"Hungary\", \"Time Period\": \"1957-1967\", \"Export Growth\": \"12.1\"}, {\"Country\": \"Hungary\", \"Time Period\": \"1968-1978\", \"Export Growth\": 9.0}, {\"Country\": \"Hungary\", \"Time Period\": \"1979-1986\", \"Export Growth\": -2.4}, {\"Country\": \"Hungary\", \"Time Period\": \"1987-1998\", \"Export Growth\": -4.1}, {\"Country\": \"Hungary\", \"Time Period\": \"1999-2007\", \"Export Growth\": -3.0}, {\"Country\": \"Hungary\", \"Time Period\": \"2008-2016\", \"Export Growth\": 0.5}, {\"Country\": \"Italy\", \"Time Period\": \"1957-1967\", \"Export Growth\": \"3.7\"}, {\"Country\": \"Italy\", \"Time Period\": \"1968-1978\", \"Export Growth\": 16.3}, {\"Country\": \"Italy\", \"Time Period\": \"1979-1986\", \"Export Growth\": -6.8}, {\"Country\": \"Italy\", \"Time Period\": \"1987-1998\", \"Export Growth\": 3.5}, {\"Country\": \"Italy\", \"Time Period\": \"1999-2007\", \"Export Growth\": 1.3}, {\"Country\": \"Italy\", \"Time Period\": \"2008-2016\", \"Export Growth\": 1.3}, {\"Country\": \"Portugal\", \"Time Period\": \"1957-1967\", \"Export Growth\": \"3.4\"}, {\"Country\": \"Portugal\", \"Time Period\": \"1968-1978\", \"Export Growth\": -5.4}, {\"Country\": \"Portugal\", \"Time Period\": \"1979-1986\", \"Export Growth\": 1.0}, {\"Country\": \"Portugal\", \"Time Period\": \"1987-1998\", \"Export Growth\": 3.3}, {\"Country\": \"Portugal\", \"Time Period\": \"1999-2007\", \"Export Growth\": 7.6}, {\"Country\": \"Portugal\", \"Time Period\": \"2008-2016\", \"Export Growth\": -0.4}, {\"Country\": \"Romania\", \"Time Period\": \"1968-1978\", \"Export Growth\": 4.6}, {\"Country\": \"Romania\", \"Time Period\": \"1979-1986\", \"Export Growth\": -6.8}, {\"Country\": \"Romania\", \"Time Period\": \"1987-1998\", \"Export Growth\": 5.3}, {\"Country\": \"Romania\", \"Time Period\": \"1999-2007\", \"Export Growth\": -8.1}, {\"Country\": \"Romania\", \"Time Period\": \"2008-2016\", \"Export Growth\": -0.8}, {\"Country\": \"Spain\", \"Time Period\": \"1957-1967\", \"Export Growth\": \"6.0\"}, {\"Country\": \"Spain\", \"Time Period\": \"1968-1978\", \"Export Growth\": 3.7}, {\"Country\": \"Spain\", \"Time Period\": \"1979-1986\", \"Export Growth\": -2.3}, {\"Country\": \"Spain\", \"Time Period\": \"1987-1998\", \"Export Growth\": 7.7}, {\"Country\": \"Spain\", \"Time Period\": \"1999-2007\", \"Export Growth\": 6.7}, {\"Country\": \"Spain\", \"Time Period\": \"2008-2016\", \"Export Growth\": 4.9}, {\"Country\": \"EU7 (mean)\", \"Time Period\": \"1957-1967\", \"Export Growth\": \"3.0\"}, {\"Country\": \"EU7 (mean)\", \"Time Period\": \"1968-1978\", \"Export Growth\": 10.5}, {\"Country\": \"EU7 (mean)\", \"Time Period\": \"1979-1986\", \"Export Growth\": -3.2}, {\"Country\": \"EU7 (mean)\", \"Time Period\": \"1987-1998\", \"Export Growth\": 3.9}, {\"Country\": \"EU7 (mean)\", \"Time Period\": \"1999-2007\", \"Export Growth\": 3.3}, {\"Country\": \"EU7 (mean)\", \"Time Period\": \"2008-2016\", \"Export Growth\": 0.7}]'"
            ],
            "application/vnd.google.colaboratory.intrinsic+json": {
              "type": "string"
            }
          },
          "metadata": {},
          "execution_count": 60
        }
      ]
    },
    {
      "cell_type": "code",
      "source": [],
      "metadata": {
        "id": "ohRUiF8tFNhs"
      },
      "execution_count": null,
      "outputs": []
    }
  ]
}
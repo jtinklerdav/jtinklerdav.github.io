{
  "nbformat": 4,
  "nbformat_minor": 0,
  "metadata": {
    "colab": {
      "provenance": [],
      "authorship_tag": "ABX9TyONA0Xkc3I+OeNOCkNHV4bl",
      "include_colab_link": true
    },
    "kernelspec": {
      "name": "python3",
      "display_name": "Python 3"
    },
    "language_info": {
      "name": "python"
    }
  },
  "cells": [
    {
      "cell_type": "markdown",
      "metadata": {
        "id": "view-in-github",
        "colab_type": "text"
      },
      "source": [
        "<a href=\"https://colab.research.google.com/github/jtinklerdav/jtinklerdav.github.io/blob/main/Machine_Learninig_Project.ipynb\" target=\"_parent\"><img src=\"https://colab.research.google.com/assets/colab-badge.svg\" alt=\"Open In Colab\"/></a>"
      ]
    },
    {
      "cell_type": "markdown",
      "source": [
        "# Similarites between the 9 countries\n",
        "\n",
        "In this code I apply supervised machine learning to calculate the similarites of the 9 selected countries in my project. This will allow me to consider whether new world and old world wine producers act similarly as well as conssider emerging markets too.\n"
      ],
      "metadata": {
        "id": "PGjxp8Sfcyir"
      }
    },
    {
      "cell_type": "code",
      "source": [
        "%matplotlib inline\n",
        "import numpy as np\n",
        "import pylab as pl\n",
        "import matplotlib.pyplot as plt\n",
        "import pandas as pd\n",
        "plt.style.use('seaborn')"
      ],
      "metadata": {
        "id": "rxpPvX_Ec3wH"
      },
      "execution_count": 1,
      "outputs": []
    },
    {
      "cell_type": "code",
      "source": [
        "raw = pd.read_csv('project_machine.csv')"
      ],
      "metadata": {
        "id": "eYg6x5d4dbZ8"
      },
      "execution_count": 2,
      "outputs": []
    },
    {
      "cell_type": "code",
      "source": [
        "raw.columns"
      ],
      "metadata": {
        "colab": {
          "base_uri": "https://localhost:8080/"
        },
        "id": "IXqv5hA8dhn4",
        "outputId": "e8585b5c-261c-419e-9592-005cfd53aa9c"
      },
      "execution_count": 3,
      "outputs": [
        {
          "output_type": "execute_result",
          "data": {
            "text/plain": [
              "Index(['Country', 'Continent_div', 'Continent', 'Production', 'Surface area',\n",
              "       'Consumption', 'Import', 'Export', 'AvgTemp',\n",
              "       'Average precipitation (mm in depth per year)'],\n",
              "      dtype='object')"
            ]
          },
          "metadata": {},
          "execution_count": 3
        }
      ]
    },
    {
      "cell_type": "code",
      "source": [
        "raw.info()"
      ],
      "metadata": {
        "colab": {
          "base_uri": "https://localhost:8080/"
        },
        "id": "8LG5ahZfdjEV",
        "outputId": "efed5c21-23b6-489e-9927-ee682e96b2fb"
      },
      "execution_count": 5,
      "outputs": [
        {
          "output_type": "stream",
          "name": "stdout",
          "text": [
            "<class 'pandas.core.frame.DataFrame'>\n",
            "RangeIndex: 9 entries, 0 to 8\n",
            "Data columns (total 10 columns):\n",
            " #   Column                                        Non-Null Count  Dtype  \n",
            "---  ------                                        --------------  -----  \n",
            " 0   Country                                       9 non-null      object \n",
            " 1   Continent_div                                 9 non-null      int64  \n",
            " 2   Continent                                     9 non-null      object \n",
            " 3   Production                                    9 non-null      float64\n",
            " 4   Surface area                                  9 non-null      float64\n",
            " 5   Consumption                                   9 non-null      float64\n",
            " 6   Import                                        9 non-null      float64\n",
            " 7   Export                                        9 non-null      float64\n",
            " 8   AvgTemp                                       9 non-null      float64\n",
            " 9   Average precipitation (mm in depth per year)  9 non-null      int64  \n",
            "dtypes: float64(6), int64(2), object(2)\n",
            "memory usage: 848.0+ bytes\n"
          ]
        }
      ]
    },
    {
      "cell_type": "code",
      "source": [
        "len(raw),len(raw['Country'].unique())"
      ],
      "metadata": {
        "colab": {
          "base_uri": "https://localhost:8080/"
        },
        "id": "2q-OKgu6djxZ",
        "outputId": "f78269be-ed63-4cab-b6c4-0847d6129031"
      },
      "execution_count": 6,
      "outputs": [
        {
          "output_type": "execute_result",
          "data": {
            "text/plain": [
              "(9, 9)"
            ]
          },
          "metadata": {},
          "execution_count": 6
        }
      ]
    },
    {
      "cell_type": "code",
      "source": [
        "df=raw.drop(['Continent'],axis=1).set_index('Country')\n",
        "df"
      ],
      "metadata": {
        "colab": {
          "base_uri": "https://localhost:8080/",
          "height": 363
        },
        "id": "KuEbxAw4dj0E",
        "outputId": "3c1fb634-72f4-4b4f-859b-44c526a40dd8"
      },
      "execution_count": 7,
      "outputs": [
        {
          "output_type": "execute_result",
          "data": {
            "text/plain": [
              "                Continent_div  Production  Surface area  Consumption  \\\n",
              "Country                                                                \n",
              "Algeria                     1    1.368268      0.001683     1.014799   \n",
              "Argentina                   1   28.690896      0.004742    18.802575   \n",
              "Australia                   1   46.588081      0.005692    22.585684   \n",
              "China                       2    0.554461      0.000553     1.062930   \n",
              "France                      2   62.619557      0.011789    36.678590   \n",
              "Italy                       2   79.955220      0.012007    38.015441   \n",
              "New Zealand                 1   58.425995      0.007760    17.916781   \n",
              "South Africa                1   16.363538      0.002179     6.584195   \n",
              "United Kingdom              3    0.117768      0.000007    19.430241   \n",
              "\n",
              "                   Import      Export  AvgTemp  \\\n",
              "Country                                          \n",
              "Algeria          0.154478    0.010718    22.50   \n",
              "Argentina        0.100536   17.464005    14.80   \n",
              "Australia       22.747866   81.142386    21.65   \n",
              "China            1.724998    0.058531     7.50   \n",
              "France          14.734377  162.820243    10.70   \n",
              "Italy            6.279798  121.116792    13.45   \n",
              "New Zealand     27.106793  239.069388    10.55   \n",
              "South Africa     0.881136   11.178412    17.75   \n",
              "United Kingdom  65.946348   12.487739     8.45   \n",
              "\n",
              "                Average precipitation (mm in depth per year)  \n",
              "Country                                                       \n",
              "Algeria                                                   89  \n",
              "Argentina                                                591  \n",
              "Australia                                                534  \n",
              "China                                                    645  \n",
              "France                                                   867  \n",
              "Italy                                                    832  \n",
              "New Zealand                                             1732  \n",
              "South Africa                                             495  \n",
              "United Kingdom                                          1220  "
            ],
            "text/html": [
              "\n",
              "  <div id=\"df-8c56b2fc-f904-4446-b813-f0e38f5164a6\">\n",
              "    <div class=\"colab-df-container\">\n",
              "      <div>\n",
              "<style scoped>\n",
              "    .dataframe tbody tr th:only-of-type {\n",
              "        vertical-align: middle;\n",
              "    }\n",
              "\n",
              "    .dataframe tbody tr th {\n",
              "        vertical-align: top;\n",
              "    }\n",
              "\n",
              "    .dataframe thead th {\n",
              "        text-align: right;\n",
              "    }\n",
              "</style>\n",
              "<table border=\"1\" class=\"dataframe\">\n",
              "  <thead>\n",
              "    <tr style=\"text-align: right;\">\n",
              "      <th></th>\n",
              "      <th>Continent_div</th>\n",
              "      <th>Production</th>\n",
              "      <th>Surface area</th>\n",
              "      <th>Consumption</th>\n",
              "      <th>Import</th>\n",
              "      <th>Export</th>\n",
              "      <th>AvgTemp</th>\n",
              "      <th>Average precipitation (mm in depth per year)</th>\n",
              "    </tr>\n",
              "    <tr>\n",
              "      <th>Country</th>\n",
              "      <th></th>\n",
              "      <th></th>\n",
              "      <th></th>\n",
              "      <th></th>\n",
              "      <th></th>\n",
              "      <th></th>\n",
              "      <th></th>\n",
              "      <th></th>\n",
              "    </tr>\n",
              "  </thead>\n",
              "  <tbody>\n",
              "    <tr>\n",
              "      <th>Algeria</th>\n",
              "      <td>1</td>\n",
              "      <td>1.368268</td>\n",
              "      <td>0.001683</td>\n",
              "      <td>1.014799</td>\n",
              "      <td>0.154478</td>\n",
              "      <td>0.010718</td>\n",
              "      <td>22.50</td>\n",
              "      <td>89</td>\n",
              "    </tr>\n",
              "    <tr>\n",
              "      <th>Argentina</th>\n",
              "      <td>1</td>\n",
              "      <td>28.690896</td>\n",
              "      <td>0.004742</td>\n",
              "      <td>18.802575</td>\n",
              "      <td>0.100536</td>\n",
              "      <td>17.464005</td>\n",
              "      <td>14.80</td>\n",
              "      <td>591</td>\n",
              "    </tr>\n",
              "    <tr>\n",
              "      <th>Australia</th>\n",
              "      <td>1</td>\n",
              "      <td>46.588081</td>\n",
              "      <td>0.005692</td>\n",
              "      <td>22.585684</td>\n",
              "      <td>22.747866</td>\n",
              "      <td>81.142386</td>\n",
              "      <td>21.65</td>\n",
              "      <td>534</td>\n",
              "    </tr>\n",
              "    <tr>\n",
              "      <th>China</th>\n",
              "      <td>2</td>\n",
              "      <td>0.554461</td>\n",
              "      <td>0.000553</td>\n",
              "      <td>1.062930</td>\n",
              "      <td>1.724998</td>\n",
              "      <td>0.058531</td>\n",
              "      <td>7.50</td>\n",
              "      <td>645</td>\n",
              "    </tr>\n",
              "    <tr>\n",
              "      <th>France</th>\n",
              "      <td>2</td>\n",
              "      <td>62.619557</td>\n",
              "      <td>0.011789</td>\n",
              "      <td>36.678590</td>\n",
              "      <td>14.734377</td>\n",
              "      <td>162.820243</td>\n",
              "      <td>10.70</td>\n",
              "      <td>867</td>\n",
              "    </tr>\n",
              "    <tr>\n",
              "      <th>Italy</th>\n",
              "      <td>2</td>\n",
              "      <td>79.955220</td>\n",
              "      <td>0.012007</td>\n",
              "      <td>38.015441</td>\n",
              "      <td>6.279798</td>\n",
              "      <td>121.116792</td>\n",
              "      <td>13.45</td>\n",
              "      <td>832</td>\n",
              "    </tr>\n",
              "    <tr>\n",
              "      <th>New Zealand</th>\n",
              "      <td>1</td>\n",
              "      <td>58.425995</td>\n",
              "      <td>0.007760</td>\n",
              "      <td>17.916781</td>\n",
              "      <td>27.106793</td>\n",
              "      <td>239.069388</td>\n",
              "      <td>10.55</td>\n",
              "      <td>1732</td>\n",
              "    </tr>\n",
              "    <tr>\n",
              "      <th>South Africa</th>\n",
              "      <td>1</td>\n",
              "      <td>16.363538</td>\n",
              "      <td>0.002179</td>\n",
              "      <td>6.584195</td>\n",
              "      <td>0.881136</td>\n",
              "      <td>11.178412</td>\n",
              "      <td>17.75</td>\n",
              "      <td>495</td>\n",
              "    </tr>\n",
              "    <tr>\n",
              "      <th>United Kingdom</th>\n",
              "      <td>3</td>\n",
              "      <td>0.117768</td>\n",
              "      <td>0.000007</td>\n",
              "      <td>19.430241</td>\n",
              "      <td>65.946348</td>\n",
              "      <td>12.487739</td>\n",
              "      <td>8.45</td>\n",
              "      <td>1220</td>\n",
              "    </tr>\n",
              "  </tbody>\n",
              "</table>\n",
              "</div>\n",
              "      <button class=\"colab-df-convert\" onclick=\"convertToInteractive('df-8c56b2fc-f904-4446-b813-f0e38f5164a6')\"\n",
              "              title=\"Convert this dataframe to an interactive table.\"\n",
              "              style=\"display:none;\">\n",
              "        \n",
              "  <svg xmlns=\"http://www.w3.org/2000/svg\" height=\"24px\"viewBox=\"0 0 24 24\"\n",
              "       width=\"24px\">\n",
              "    <path d=\"M0 0h24v24H0V0z\" fill=\"none\"/>\n",
              "    <path d=\"M18.56 5.44l.94 2.06.94-2.06 2.06-.94-2.06-.94-.94-2.06-.94 2.06-2.06.94zm-11 1L8.5 8.5l.94-2.06 2.06-.94-2.06-.94L8.5 2.5l-.94 2.06-2.06.94zm10 10l.94 2.06.94-2.06 2.06-.94-2.06-.94-.94-2.06-.94 2.06-2.06.94z\"/><path d=\"M17.41 7.96l-1.37-1.37c-.4-.4-.92-.59-1.43-.59-.52 0-1.04.2-1.43.59L10.3 9.45l-7.72 7.72c-.78.78-.78 2.05 0 2.83L4 21.41c.39.39.9.59 1.41.59.51 0 1.02-.2 1.41-.59l7.78-7.78 2.81-2.81c.8-.78.8-2.07 0-2.86zM5.41 20L4 18.59l7.72-7.72 1.47 1.35L5.41 20z\"/>\n",
              "  </svg>\n",
              "      </button>\n",
              "      \n",
              "  <style>\n",
              "    .colab-df-container {\n",
              "      display:flex;\n",
              "      flex-wrap:wrap;\n",
              "      gap: 12px;\n",
              "    }\n",
              "\n",
              "    .colab-df-convert {\n",
              "      background-color: #E8F0FE;\n",
              "      border: none;\n",
              "      border-radius: 50%;\n",
              "      cursor: pointer;\n",
              "      display: none;\n",
              "      fill: #1967D2;\n",
              "      height: 32px;\n",
              "      padding: 0 0 0 0;\n",
              "      width: 32px;\n",
              "    }\n",
              "\n",
              "    .colab-df-convert:hover {\n",
              "      background-color: #E2EBFA;\n",
              "      box-shadow: 0px 1px 2px rgba(60, 64, 67, 0.3), 0px 1px 3px 1px rgba(60, 64, 67, 0.15);\n",
              "      fill: #174EA6;\n",
              "    }\n",
              "\n",
              "    [theme=dark] .colab-df-convert {\n",
              "      background-color: #3B4455;\n",
              "      fill: #D2E3FC;\n",
              "    }\n",
              "\n",
              "    [theme=dark] .colab-df-convert:hover {\n",
              "      background-color: #434B5C;\n",
              "      box-shadow: 0px 1px 3px 1px rgba(0, 0, 0, 0.15);\n",
              "      filter: drop-shadow(0px 1px 2px rgba(0, 0, 0, 0.3));\n",
              "      fill: #FFFFFF;\n",
              "    }\n",
              "  </style>\n",
              "\n",
              "      <script>\n",
              "        const buttonEl =\n",
              "          document.querySelector('#df-8c56b2fc-f904-4446-b813-f0e38f5164a6 button.colab-df-convert');\n",
              "        buttonEl.style.display =\n",
              "          google.colab.kernel.accessAllowed ? 'block' : 'none';\n",
              "\n",
              "        async function convertToInteractive(key) {\n",
              "          const element = document.querySelector('#df-8c56b2fc-f904-4446-b813-f0e38f5164a6');\n",
              "          const dataTable =\n",
              "            await google.colab.kernel.invokeFunction('convertToInteractive',\n",
              "                                                     [key], {});\n",
              "          if (!dataTable) return;\n",
              "\n",
              "          const docLinkHtml = 'Like what you see? Visit the ' +\n",
              "            '<a target=\"_blank\" href=https://colab.research.google.com/notebooks/data_table.ipynb>data table notebook</a>'\n",
              "            + ' to learn more about interactive tables.';\n",
              "          element.innerHTML = '';\n",
              "          dataTable['output_type'] = 'display_data';\n",
              "          await google.colab.output.renderOutput(dataTable, element);\n",
              "          const docLink = document.createElement('div');\n",
              "          docLink.innerHTML = docLinkHtml;\n",
              "          element.appendChild(docLink);\n",
              "        }\n",
              "      </script>\n",
              "    </div>\n",
              "  </div>\n",
              "  "
            ]
          },
          "metadata": {},
          "execution_count": 7
        }
      ]
    },
    {
      "cell_type": "code",
      "source": [
        "X = df[[i for i in df.columns if i!='Continent_div']].fillna(0)\n",
        "y = df[[i for i in df.columns if i=='Continent_div']]['Continent_div'].values"
      ],
      "metadata": {
        "id": "N3H6y92ddj2r"
      },
      "execution_count": 8,
      "outputs": []
    },
    {
      "cell_type": "code",
      "source": [
        "from sklearn.model_selection import train_test_split\n",
        "from sklearn import metrics\n",
        "from sklearn.ensemble import RandomForestClassifier\n",
        "from scipy import stats\n",
        "import matplotlib.pyplot as plt\n",
        "plt.style.use('seaborn')"
      ],
      "metadata": {
        "id": "r7qpjMiLdpL2"
      },
      "execution_count": 9,
      "outputs": []
    },
    {
      "cell_type": "code",
      "source": [
        "raw.set_index('Continent_div')['Continent'].drop_duplicates()"
      ],
      "metadata": {
        "colab": {
          "base_uri": "https://localhost:8080/"
        },
        "id": "juCxTWM5dpO3",
        "outputId": "01362bfc-4b5e-4eb2-a781-d5f167c73d2e"
      },
      "execution_count": 10,
      "outputs": [
        {
          "output_type": "execute_result",
          "data": {
            "text/plain": [
              "Continent_div\n",
              "1       Africa\n",
              "1    New World\n",
              "2         Asia\n",
              "2    Old World\n",
              "3       Europe\n",
              "Name: Continent, dtype: object"
            ]
          },
          "metadata": {},
          "execution_count": 10
        }
      ]
    },
    {
      "cell_type": "code",
      "source": [
        "labels=raw.set_index('Continent_div')['Continent'].drop_duplicates().values"
      ],
      "metadata": {
        "id": "p3R6bD2MdpRw"
      },
      "execution_count": 11,
      "outputs": []
    },
    {
      "cell_type": "markdown",
      "source": [
        "\n",
        "**Having created a matrix which is in the correct format to be analysed I now create the dendogram**\n"
      ],
      "metadata": {
        "id": "nEpM0_2kdvwA"
      }
    },
    {
      "cell_type": "code",
      "source": [
        "import scipy.cluster.hierarchy as sch"
      ],
      "metadata": {
        "id": "ux--B5LPdpYs"
      },
      "execution_count": 12,
      "outputs": []
    },
    {
      "cell_type": "code",
      "source": [
        "Z = sch.linkage(X.T, method='ward', metric='euclidean')\n",
        "\n",
        "# Plot dendogram\n",
        "# plt.figure(figsize=(25, 10))\n",
        "plt.title('Hierarchical Clustering Dendrogram')\n",
        "plt.xlabel('Column name')\n",
        "plt.ylabel('Distance')\n",
        "sch.dendrogram(\n",
        "    Z,\n",
        "    leaf_rotation=90.,  # rotates the x axis labels\n",
        "    leaf_font_size=14.,  # font size for the x axis labels\n",
        "    labels=X.columns\n",
        ")\n",
        "plt.show()"
      ],
      "metadata": {
        "colab": {
          "base_uri": "https://localhost:8080/",
          "height": 644
        },
        "id": "JkzMYweid9SV",
        "outputId": "7d1bb5b5-5d92-475c-ff88-37c2b3ec66d0"
      },
      "execution_count": 13,
      "outputs": [
        {
          "output_type": "display_data",
          "data": {
            "text/plain": [
              "<Figure size 576x396 with 1 Axes>"
            ],
            "image/png": "[encoded data removed]"
          },
          "metadata": {}
        }
      ]
    },
    {
      "cell_type": "markdown",
      "source": [
        "**Now I am going to create the dendogram by dropping the continent values and settting each coutry as an index**"
      ],
      "metadata": {
        "id": "mIhqwM-dfBnJ"
      }
    },
    {
      "cell_type": "code",
      "source": [
        "X2=raw.set_index('Country').drop(['Continent_div','Continent'],axis=1).fillna(0)\n",
        "X2"
      ],
      "metadata": {
        "colab": {
          "base_uri": "https://localhost:8080/",
          "height": 363
        },
        "id": "mnor7L-ud9xR",
        "outputId": "c5dbc413-d7e9-4104-ec77-b7af9178b129"
      },
      "execution_count": 14,
      "outputs": [
        {
          "output_type": "execute_result",
          "data": {
            "text/plain": [
              "                Production  Surface area  Consumption     Import      Export  \\\n",
              "Country                                                                        \n",
              "Algeria           1.368268      0.001683     1.014799   0.154478    0.010718   \n",
              "Argentina        28.690896      0.004742    18.802575   0.100536   17.464005   \n",
              "Australia        46.588081      0.005692    22.585684  22.747866   81.142386   \n",
              "China             0.554461      0.000553     1.062930   1.724998    0.058531   \n",
              "France           62.619557      0.011789    36.678590  14.734377  162.820243   \n",
              "Italy            79.955220      0.012007    38.015441   6.279798  121.116792   \n",
              "New Zealand      58.425995      0.007760    17.916781  27.106793  239.069388   \n",
              "South Africa     16.363538      0.002179     6.584195   0.881136   11.178412   \n",
              "United Kingdom    0.117768      0.000007    19.430241  65.946348   12.487739   \n",
              "\n",
              "                AvgTemp  Average precipitation (mm in depth per year)  \n",
              "Country                                                                \n",
              "Algeria           22.50                                            89  \n",
              "Argentina         14.80                                           591  \n",
              "Australia         21.65                                           534  \n",
              "China              7.50                                           645  \n",
              "France            10.70                                           867  \n",
              "Italy             13.45                                           832  \n",
              "New Zealand       10.55                                          1732  \n",
              "South Africa      17.75                                           495  \n",
              "United Kingdom     8.45                                          1220  "
            ],
            "text/html": [
              "\n",
              "  <div id=\"df-165f26c5-7c90-430e-830c-81083b749a42\">\n",
              "    <div class=\"colab-df-container\">\n",
              "      <div>\n",
              "<style scoped>\n",
              "    .dataframe tbody tr th:only-of-type {\n",
              "        vertical-align: middle;\n",
              "    }\n",
              "\n",
              "    .dataframe tbody tr th {\n",
              "        vertical-align: top;\n",
              "    }\n",
              "\n",
              "    .dataframe thead th {\n",
              "        text-align: right;\n",
              "    }\n",
              "</style>\n",
              "<table border=\"1\" class=\"dataframe\">\n",
              "  <thead>\n",
              "    <tr style=\"text-align: right;\">\n",
              "      <th></th>\n",
              "      <th>Production</th>\n",
              "      <th>Surface area</th>\n",
              "      <th>Consumption</th>\n",
              "      <th>Import</th>\n",
              "      <th>Export</th>\n",
              "      <th>AvgTemp</th>\n",
              "      <th>Average precipitation (mm in depth per year)</th>\n",
              "    </tr>\n",
              "    <tr>\n",
              "      <th>Country</th>\n",
              "      <th></th>\n",
              "      <th></th>\n",
              "      <th></th>\n",
              "      <th></th>\n",
              "      <th></th>\n",
              "      <th></th>\n",
              "      <th></th>\n",
              "    </tr>\n",
              "  </thead>\n",
              "  <tbody>\n",
              "    <tr>\n",
              "      <th>Algeria</th>\n",
              "      <td>1.368268</td>\n",
              "      <td>0.001683</td>\n",
              "      <td>1.014799</td>\n",
              "      <td>0.154478</td>\n",
              "      <td>0.010718</td>\n",
              "      <td>22.50</td>\n",
              "      <td>89</td>\n",
              "    </tr>\n",
              "    <tr>\n",
              "      <th>Argentina</th>\n",
              "      <td>28.690896</td>\n",
              "      <td>0.004742</td>\n",
              "      <td>18.802575</td>\n",
              "      <td>0.100536</td>\n",
              "      <td>17.464005</td>\n",
              "      <td>14.80</td>\n",
              "      <td>591</td>\n",
              "    </tr>\n",
              "    <tr>\n",
              "      <th>Australia</th>\n",
              "      <td>46.588081</td>\n",
              "      <td>0.005692</td>\n",
              "      <td>22.585684</td>\n",
              "      <td>22.747866</td>\n",
              "      <td>81.142386</td>\n",
              "      <td>21.65</td>\n",
              "      <td>534</td>\n",
              "    </tr>\n",
              "    <tr>\n",
              "      <th>China</th>\n",
              "      <td>0.554461</td>\n",
              "      <td>0.000553</td>\n",
              "      <td>1.062930</td>\n",
              "      <td>1.724998</td>\n",
              "      <td>0.058531</td>\n",
              "      <td>7.50</td>\n",
              "      <td>645</td>\n",
              "    </tr>\n",
              "    <tr>\n",
              "      <th>France</th>\n",
              "      <td>62.619557</td>\n",
              "      <td>0.011789</td>\n",
              "      <td>36.678590</td>\n",
              "      <td>14.734377</td>\n",
              "      <td>162.820243</td>\n",
              "      <td>10.70</td>\n",
              "      <td>867</td>\n",
              "    </tr>\n",
              "    <tr>\n",
              "      <th>Italy</th>\n",
              "      <td>79.955220</td>\n",
              "      <td>0.012007</td>\n",
              "      <td>38.015441</td>\n",
              "      <td>6.279798</td>\n",
              "      <td>121.116792</td>\n",
              "      <td>13.45</td>\n",
              "      <td>832</td>\n",
              "    </tr>\n",
              "    <tr>\n",
              "      <th>New Zealand</th>\n",
              "      <td>58.425995</td>\n",
              "      <td>0.007760</td>\n",
              "      <td>17.916781</td>\n",
              "      <td>27.106793</td>\n",
              "      <td>239.069388</td>\n",
              "      <td>10.55</td>\n",
              "      <td>1732</td>\n",
              "    </tr>\n",
              "    <tr>\n",
              "      <th>South Africa</th>\n",
              "      <td>16.363538</td>\n",
              "      <td>0.002179</td>\n",
              "      <td>6.584195</td>\n",
              "      <td>0.881136</td>\n",
              "      <td>11.178412</td>\n",
              "      <td>17.75</td>\n",
              "      <td>495</td>\n",
              "    </tr>\n",
              "    <tr>\n",
              "      <th>United Kingdom</th>\n",
              "      <td>0.117768</td>\n",
              "      <td>0.000007</td>\n",
              "      <td>19.430241</td>\n",
              "      <td>65.946348</td>\n",
              "      <td>12.487739</td>\n",
              "      <td>8.45</td>\n",
              "      <td>1220</td>\n",
              "    </tr>\n",
              "  </tbody>\n",
              "</table>\n",
              "</div>\n",
              "      <button class=\"colab-df-convert\" onclick=\"convertToInteractive('df-165f26c5-7c90-430e-830c-81083b749a42')\"\n",
              "              title=\"Convert this dataframe to an interactive table.\"\n",
              "              style=\"display:none;\">\n",
              "        \n",
              "  <svg xmlns=\"http://www.w3.org/2000/svg\" height=\"24px\"viewBox=\"0 0 24 24\"\n",
              "       width=\"24px\">\n",
              "    <path d=\"M0 0h24v24H0V0z\" fill=\"none\"/>\n",
              "    <path d=\"M18.56 5.44l.94 2.06.94-2.06 2.06-.94-2.06-.94-.94-2.06-.94 2.06-2.06.94zm-11 1L8.5 8.5l.94-2.06 2.06-.94-2.06-.94L8.5 2.5l-.94 2.06-2.06.94zm10 10l.94 2.06.94-2.06 2.06-.94-2.06-.94-.94-2.06-.94 2.06-2.06.94z\"/><path d=\"M17.41 7.96l-1.37-1.37c-.4-.4-.92-.59-1.43-.59-.52 0-1.04.2-1.43.59L10.3 9.45l-7.72 7.72c-.78.78-.78 2.05 0 2.83L4 21.41c.39.39.9.59 1.41.59.51 0 1.02-.2 1.41-.59l7.78-7.78 2.81-2.81c.8-.78.8-2.07 0-2.86zM5.41 20L4 18.59l7.72-7.72 1.47 1.35L5.41 20z\"/>\n",
              "  </svg>\n",
              "      </button>\n",
              "      \n",
              "  <style>\n",
              "    .colab-df-container {\n",
              "      display:flex;\n",
              "      flex-wrap:wrap;\n",
              "      gap: 12px;\n",
              "    }\n",
              "\n",
              "    .colab-df-convert {\n",
              "      background-color: #E8F0FE;\n",
              "      border: none;\n",
              "      border-radius: 50%;\n",
              "      cursor: pointer;\n",
              "      display: none;\n",
              "      fill: #1967D2;\n",
              "      height: 32px;\n",
              "      padding: 0 0 0 0;\n",
              "      width: 32px;\n",
              "    }\n",
              "\n",
              "    .colab-df-convert:hover {\n",
              "      background-color: #E2EBFA;\n",
              "      box-shadow: 0px 1px 2px rgba(60, 64, 67, 0.3), 0px 1px 3px 1px rgba(60, 64, 67, 0.15);\n",
              "      fill: #174EA6;\n",
              "    }\n",
              "\n",
              "    [theme=dark] .colab-df-convert {\n",
              "      background-color: #3B4455;\n",
              "      fill: #D2E3FC;\n",
              "    }\n",
              "\n",
              "    [theme=dark] .colab-df-convert:hover {\n",
              "      background-color: #434B5C;\n",
              "      box-shadow: 0px 1px 3px 1px rgba(0, 0, 0, 0.15);\n",
              "      filter: drop-shadow(0px 1px 2px rgba(0, 0, 0, 0.3));\n",
              "      fill: #FFFFFF;\n",
              "    }\n",
              "  </style>\n",
              "\n",
              "      <script>\n",
              "        const buttonEl =\n",
              "          document.querySelector('#df-165f26c5-7c90-430e-830c-81083b749a42 button.colab-df-convert');\n",
              "        buttonEl.style.display =\n",
              "          google.colab.kernel.accessAllowed ? 'block' : 'none';\n",
              "\n",
              "        async function convertToInteractive(key) {\n",
              "          const element = document.querySelector('#df-165f26c5-7c90-430e-830c-81083b749a42');\n",
              "          const dataTable =\n",
              "            await google.colab.kernel.invokeFunction('convertToInteractive',\n",
              "                                                     [key], {});\n",
              "          if (!dataTable) return;\n",
              "\n",
              "          const docLinkHtml = 'Like what you see? Visit the ' +\n",
              "            '<a target=\"_blank\" href=https://colab.research.google.com/notebooks/data_table.ipynb>data table notebook</a>'\n",
              "            + ' to learn more about interactive tables.';\n",
              "          element.innerHTML = '';\n",
              "          dataTable['output_type'] = 'display_data';\n",
              "          await google.colab.output.renderOutput(dataTable, element);\n",
              "          const docLink = document.createElement('div');\n",
              "          docLink.innerHTML = docLinkHtml;\n",
              "          element.appendChild(docLink);\n",
              "        }\n",
              "      </script>\n",
              "    </div>\n",
              "  </div>\n",
              "  "
            ]
          },
          "metadata": {},
          "execution_count": 14
        }
      ]
    },
    {
      "cell_type": "code",
      "source": [
        "Z = sch.linkage(X2, method='ward', metric='euclidean')\n",
        "\n",
        "# Plot dendogram\n",
        "plt.figure(figsize=(8, 6))\n",
        "plt.title('Hierarchical Clustering Dendrogram')\n",
        "plt.xlabel('Country')\n",
        "plt.ylabel('Distance')\n",
        "sch.dendrogram(\n",
        "    Z,\n",
        "    leaf_rotation=90.,  # rotates the x axis labels\n",
        "    leaf_font_size=14.,  # font size for the x axis labels\n",
        "    labels=X2.index\n",
        ")\n",
        "plt.show()"
      ],
      "metadata": {
        "colab": {
          "base_uri": "https://localhost:8080/",
          "height": 493
        },
        "id": "HuiH-eSId90F",
        "outputId": "66e6eb7d-6cbb-42da-d093-76abb67c27bc"
      },
      "execution_count": 15,
      "outputs": [
        {
          "output_type": "display_data",
          "data": {
            "text/plain": [
              "<Figure size 576x432 with 1 Axes>"
            ],
            "image/png": "[encoded data removed]"
          },
          "metadata": {}
        }
      ]
    }
  ]
}